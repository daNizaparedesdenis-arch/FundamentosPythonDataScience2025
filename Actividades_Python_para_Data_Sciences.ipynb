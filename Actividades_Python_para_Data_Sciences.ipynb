{
  "nbformat": 4,
  "nbformat_minor": 0,
  "metadata": {
    "colab": {
      "provenance": [],
      "authorship_tag": "ABX9TyOpn7MaJG4SEpBcWKFCPmup",
      "include_colab_link": true
    },
    "kernelspec": {
      "name": "python3",
      "display_name": "Python 3"
    },
    "language_info": {
      "name": "python"
    }
  },
  "cells": [
    {
      "cell_type": "markdown",
      "metadata": {
        "id": "view-in-github",
        "colab_type": "text"
      },
      "source": [
        "<a href=\"https://colab.research.google.com/github/daNizaparedesdenis-arch/FundamentosPythonDataScience2025/blob/main/Actividades_Python_para_Data_Sciences.ipynb\" target=\"_parent\"><img src=\"https://colab.research.google.com/assets/colab-badge.svg\" alt=\"Open In Colab\"/></a>"
      ]
    },
    {
      "cell_type": "markdown",
      "source": [
        "# Mis primeros pasos con Python: Hora de Practicar\n",
        "  ### *Lección 1*\n",
        "1. Imprime la frase \"Escuela de Datos de Alura\".\n",
        "2. Imprime tu nombre y tu apellido\n",
        "3. Imprime tu primer nombre letra por letra\n",
        "4. Imprime tu fecha de nacimiento en formato día mes año\n",
        "5. Imprime, en una sola instrucción print, el año actual en el que estás realizando este curso\n"
      ],
      "metadata": {
        "id": "EBO1G1WXDxIF"
      }
    },
    {
      "cell_type": "code",
      "source": [
        "#Ejercicio 1\n",
        "print(\"Escuela de Datos Alura\")"
      ],
      "metadata": {
        "colab": {
          "base_uri": "https://localhost:8080/"
        },
        "id": "BYv0JmNUEc8Q",
        "outputId": "6d749784-1f77-4dda-84a5-c3413f409ad8"
      },
      "execution_count": null,
      "outputs": [
        {
          "output_type": "stream",
          "name": "stdout",
          "text": [
            "Escuela de Datos Alura\n"
          ]
        }
      ]
    },
    {
      "cell_type": "code",
      "source": [
        "#Ejercicio 2\n",
        "print(\"Tu Nombre: Danisa\")\n",
        "print(\"Tu Apellido: Paredes\")"
      ],
      "metadata": {
        "colab": {
          "base_uri": "https://localhost:8080/"
        },
        "id": "WQLBxuZ-FDvy",
        "outputId": "40de95b7-a618-4652-822a-96818e9211b7"
      },
      "execution_count": null,
      "outputs": [
        {
          "output_type": "stream",
          "name": "stdout",
          "text": [
            "Tu Nombre: Danisa\n",
            "Tu Apellido: Paredes\n"
          ]
        }
      ]
    },
    {
      "cell_type": "code",
      "source": [
        "#Ejercicio 3\n",
        "print(\"D\")\n",
        "print(\"A\")\n",
        "print(\"N\")\n",
        "print(\"I\")\n",
        "print(\"S\")\n",
        "print(\"A\")"
      ],
      "metadata": {
        "colab": {
          "base_uri": "https://localhost:8080/"
        },
        "id": "D9l5SX6JFWKs",
        "outputId": "01799483-e7bd-4f3e-99f6-7edae9838acb"
      },
      "execution_count": null,
      "outputs": [
        {
          "output_type": "stream",
          "name": "stdout",
          "text": [
            "D\n",
            "A\n",
            "N\n",
            "I\n",
            "S\n",
            "A\n"
          ]
        }
      ]
    },
    {
      "cell_type": "code",
      "source": [
        "#Ejercicio 4\n",
        "print(4, \"junio\", 1984)"
      ],
      "metadata": {
        "colab": {
          "base_uri": "https://localhost:8080/"
        },
        "id": "Qv6oTFLmFmC5",
        "outputId": "923100e7-8259-4e1d-ef36-7d27363c613f"
      },
      "execution_count": null,
      "outputs": [
        {
          "output_type": "stream",
          "name": "stdout",
          "text": [
            "4 junio 1984\n"
          ]
        }
      ]
    },
    {
      "cell_type": "code",
      "source": [
        "#Ejercicio 5\n",
        "print(\"Año Actual\", 2025)"
      ],
      "metadata": {
        "colab": {
          "base_uri": "https://localhost:8080/"
        },
        "id": "gSs6p0T3F501",
        "outputId": "58d2a145-6151-4bf5-8d2a-7853d6fa658c"
      },
      "execution_count": null,
      "outputs": [
        {
          "output_type": "stream",
          "name": "stdout",
          "text": [
            "Año Actual 2025\n"
          ]
        }
      ]
    },
    {
      "cell_type": "markdown",
      "source": [
        "### *Lección 2*\n",
        "\n",
        "Recopilación y muestras de datos\n",
        "\n",
        "1. Crea un programa que solicite e imprima tu nombre\n",
        "2. Crea un programa que solicite e imprima nombre y edad\n",
        "3. Crea un programa que solicite e imprima nombre, edad y altura en metros\n",
        "\n",
        "Caculadora de operadores\n",
        "\n",
        "4. Crea un programa que solicite 2 valores numericos e imprima su suma\n",
        "5. Crea un programa que solicite 3 valores numericos e imprima su suma\n",
        "6. Crea un programa que solicite 2 valores numericos y que imprima la resta del primero al segundo\n",
        "7. Crea un programa que solicite 2 valores numericos y luego imprima su multiplicación\n",
        "8. Crea un programa que solicite 2 valores numericos (numerador y denominador) y realice una división (no 0 en denominador)\n",
        "9. Crea un programa que solicite dos valores numéricos, un operador y una potencia, y realice la exponenciación entre estos dos valores.\n",
        "10. Crea un programa que solicite dos valores numéricos, un numerador y un denominador, y realice la división entera entre los dos valores. Asegúrate de que el valor del denominador no sea igual a 0.\n",
        "11. Crea un programa que solicite dos valores numéricos, un numerador y un denominador, y devuelva el resto de la división entre los dos valores. Asegúrate de que el valor del denominador no sea igual a 0.\n",
        "12. Crea un código que solicite las 3 notas de un estudiante e imprima el promedio de las notas.\n",
        "13. Crea un código que calcule e imprima el promedio ponderado de los números 5, 12, 20 y 15 con pesos respectivamente iguales a 1, 2, 3 y 4.\n",
        "\n",
        "Editando textos\n",
        "\n",
        "14. Crea una variable llamada \"frase\" y asígnale una cadena de texto de tu elección. Luego, imprime la frase en pantalla.\n",
        "15. Crea un código que solicite una frase y luego imprima la frase en pantalla.\n",
        "16. Crea un código que solicite una frase al usuario y luego imprima la misma frase ingresada pero en mayúsculas.\n",
        "17. Crea un código que solicite una frase al usuario y luego imprima la misma frase ingresada pero en minúsculas.\n",
        "18. Crea una variable llamada \"frase\" y asígnale una cadena de texto de tu elección. Luego, imprime la frase sin espacios en blanco al principio y al final.\n",
        "19. Crea un código que solicite una frase al usuario y luego imprima la misma frase sin espacios en blanco al principio y al final.\n",
        "20. Crea un código que solicite una frase al usuario y luego imprima la misma frase sin espacios en blanco al principio y al final, además de convertirla a minúsculas.\n",
        "21. Crea un código que solicite una frase al usuario y luego imprima la misma frase con todas las vocales \"e\" reemplazadas por la letra \"f\".\n",
        "22. Crea un código que solicite una frase al usuario y luego imprima la misma frase con todas las vocales \"a\" reemplazadas por el carácter \"@\".\n",
        "23. Crea un código que solicite una frase al usuario y luego imprima la misma frase con todas las consonantes \"s\" reemplazadas por el carácter \"$\"."
      ],
      "metadata": {
        "id": "NBpYrXrtmjeq"
      }
    },
    {
      "cell_type": "code",
      "source": [
        "#Ejercicio 1\n",
        "Nombres = input(\"Ingresa tu nombre: \")\n",
        "print(f\"¡Hola, {Nombres}!\")"
      ],
      "metadata": {
        "colab": {
          "base_uri": "https://localhost:8080/"
        },
        "id": "rKoZL2DMelkS",
        "outputId": "f9f19ac6-6113-41e2-8f9c-b5c8da04bab1"
      },
      "execution_count": 6,
      "outputs": [
        {
          "output_type": "stream",
          "name": "stdout",
          "text": [
            "Ingresa tu nombre: Danisa Paredes\n",
            "¡Hola, Danisa Paredes!\n"
          ]
        }
      ]
    },
    {
      "cell_type": "code",
      "source": [
        "#Ejercicio 2\n",
        "Nombres = input(\"Ingresa tu nombre: \")\n",
        "Edad = input(\"Ingresa tu edad: \")\n",
        "print(f\"¡Hola, {Nombres}! Tu edad es de {Edad}\")"
      ],
      "metadata": {
        "colab": {
          "base_uri": "https://localhost:8080/"
        },
        "id": "8ocpS2PxflZw",
        "outputId": "1369ac3b-7656-4fb5-cf37-d43b09c27d46"
      },
      "execution_count": 8,
      "outputs": [
        {
          "output_type": "stream",
          "name": "stdout",
          "text": [
            "Ingresa tu nombre: Danisa\n",
            "Ingresa tu edad: 41\n",
            "¡Hola, Danisa! Tu edad es de 41\n"
          ]
        }
      ]
    },
    {
      "cell_type": "code",
      "source": [
        "#Ejercicio 3\n",
        "Nombres = input(\"Ingresa tu nombre: \")\n",
        "Edad = input(\"Ingresa tu edad: \")\n",
        "Altura = input(\"Ingresa tu altura: \")\n",
        "print(f\"¡Hola, {Nombres}! Tu edad es de {Edad} y tu altura es de {Altura}\")"
      ],
      "metadata": {
        "colab": {
          "base_uri": "https://localhost:8080/"
        },
        "id": "zhOEhY3wgmnH",
        "outputId": "cfc0f2d3-e7a8-4e50-d8a2-526f9405af3a"
      },
      "execution_count": 9,
      "outputs": [
        {
          "output_type": "stream",
          "name": "stdout",
          "text": [
            "Ingresa tu nombre: Danisa\n",
            "Ingresa tu edad: 41\n",
            "Ingresa tu altura: 1.48\n",
            "¡Hola, Danisa! Tu edad es de 41 y tu altura es de 1.48\n"
          ]
        }
      ]
    },
    {
      "cell_type": "code",
      "source": [
        "#Ejercicio 4\n",
        "a = int(input(\"Ingresa cualquier número que desees: \"))\n",
        "b = int(input(\"Ingresa un nuevo número: \"))\n",
        "print(f\"La suma de ambos números es: {a + b}\")"
      ],
      "metadata": {
        "colab": {
          "base_uri": "https://localhost:8080/"
        },
        "id": "_PARQqTKhGIl",
        "outputId": "2e877443-f2b8-40ab-f912-03727456f615"
      },
      "execution_count": 11,
      "outputs": [
        {
          "output_type": "stream",
          "name": "stdout",
          "text": [
            "Ingresa cualquier número que desees: 56\n",
            "Ingresa un nuevo número: 84\n",
            "La suma de ambos números es: 140\n"
          ]
        }
      ]
    },
    {
      "cell_type": "code",
      "source": [
        "#Ejercicio 5\n",
        "a = int(input(\"Ingresa cualquier número que desees: \"))\n",
        "b = int(input(\"Ingresa un segundo número: \"))\n",
        "c = int(input(\"Ingresa un tercer número: \"))\n",
        "print(f\"La suma de los tres números es: {a + b + c}\")"
      ],
      "metadata": {
        "colab": {
          "base_uri": "https://localhost:8080/"
        },
        "id": "yTPPuE6Oh4ra",
        "outputId": "f217f6ac-9c18-4834-a430-50c6549333f1"
      },
      "execution_count": 13,
      "outputs": [
        {
          "output_type": "stream",
          "name": "stdout",
          "text": [
            "Ingresa cualquier número que desees: 153\n",
            "Ingresa un segundo número: 256\n",
            "Ingresa un tercer número: 256\n",
            "La suma de los tres números es: 665\n"
          ]
        }
      ]
    },
    {
      "cell_type": "code",
      "source": [
        "#Ejercicio 6\n",
        "a = int(input(\"Ingresa cualquier número que desees: \"))\n",
        "b = int(input(\"Ingresa un nuevo número: \"))\n",
        "print(f\"La resta de ambos números es: {a - b}\")"
      ],
      "metadata": {
        "colab": {
          "base_uri": "https://localhost:8080/"
        },
        "id": "LL4pDk78lTWs",
        "outputId": "f5a9c81c-b36b-48d4-9faa-97c124eed7ea"
      },
      "execution_count": 14,
      "outputs": [
        {
          "output_type": "stream",
          "name": "stdout",
          "text": [
            "Ingresa cualquier número que desees: 2587\n",
            "Ingresa un nuevo número: 14\n",
            "La resta de ambos números es: 2573\n"
          ]
        }
      ]
    },
    {
      "cell_type": "code",
      "source": [
        "#Ejercicio 7\n",
        "a = int(input(\"Ingresa cualquier número que desees: \"))\n",
        "b = int(input(\"Ingresa un nuevo número: \"))\n",
        "print(f\"La multiplicación de ambos números es: {a * b}\")"
      ],
      "metadata": {
        "colab": {
          "base_uri": "https://localhost:8080/"
        },
        "id": "iMnbYdjplg1p",
        "outputId": "121a4f02-caff-4b91-e772-c2bcfd2dfb94"
      },
      "execution_count": 15,
      "outputs": [
        {
          "output_type": "stream",
          "name": "stdout",
          "text": [
            "Ingresa cualquier número que desees: 14\n",
            "Ingresa un nuevo número: 55\n",
            "La multiplicación de ambos números es: 770\n"
          ]
        }
      ]
    },
    {
      "cell_type": "code",
      "source": [
        "#Ejercicio 8\n",
        "numerador = int(input(\"Ingresa el valor del numerador: \"))\n",
        "denominador = int(input(\"Ingresa el valor del denominador: \"))\n",
        "print(f\"La división de ambos números es: {numerador / denominador}\")"
      ],
      "metadata": {
        "colab": {
          "base_uri": "https://localhost:8080/"
        },
        "id": "fXlRc6Cmlvgi",
        "outputId": "eb2e3c18-b746-464a-d096-01d9615b207a"
      },
      "execution_count": 19,
      "outputs": [
        {
          "output_type": "stream",
          "name": "stdout",
          "text": [
            "Ingresa el valor del numerador: 1483\n",
            "Ingresa el valor del denominador: 15\n",
            "La división de ambos números es: 98.86666666666666\n"
          ]
        }
      ]
    },
    {
      "cell_type": "code",
      "source": [
        "#Ejercicio 9\n",
        "operador = int(input(\"Ingresa el valor del operador: \"))\n",
        "potencia = int(input(\"Ingresa el calor de la potencia: \"))\n",
        "print(f\"El resultado es: {operador ** potencia}\")"
      ],
      "metadata": {
        "colab": {
          "base_uri": "https://localhost:8080/"
        },
        "id": "Duv9pWqhnd3e",
        "outputId": "6f817009-2c9e-4655-ac1b-ea270e6334aa"
      },
      "execution_count": 20,
      "outputs": [
        {
          "output_type": "stream",
          "name": "stdout",
          "text": [
            "Ingresa el valor del operador: 158\n",
            "Ingresa el calor de la potencia: 15\n",
            "El resultado es: 954676658423253988443170052472832\n"
          ]
        }
      ]
    },
    {
      "cell_type": "code",
      "source": [
        "#Ejercicio 10\n",
        "numerador = int(input(\"Ingresa el valor del numerador: \"))\n",
        "denominador = int(input(\"Ingresa el valor del denominador: \"))\n",
        "print(f\"El resultado es: {numerador // denominador}\")"
      ],
      "metadata": {
        "colab": {
          "base_uri": "https://localhost:8080/"
        },
        "id": "QWf5OCT7oczG",
        "outputId": "8870a34c-19d2-43be-ce1b-56d6622a8c5a"
      },
      "execution_count": 21,
      "outputs": [
        {
          "output_type": "stream",
          "name": "stdout",
          "text": [
            "Ingresa el valor del numerador: 14\n",
            "Ingresa el valor del denominador: 2\n",
            "El resultado es: 7\n"
          ]
        }
      ]
    },
    {
      "cell_type": "code",
      "source": [
        "#Ejercicio 11\n",
        "numerador = int(input(\"Ingresa el valor del numerador: \"))\n",
        "denominador = int(input(\"Ingresa el valor del denominador: \"))\n",
        "print(f\"El resultado es: {numerador % denominador}\")"
      ],
      "metadata": {
        "colab": {
          "base_uri": "https://localhost:8080/"
        },
        "id": "-szyPBiWopVo",
        "outputId": "c045bb25-9812-491e-fc20-396cdf60b0cb"
      },
      "execution_count": 22,
      "outputs": [
        {
          "output_type": "stream",
          "name": "stdout",
          "text": [
            "Ingresa el valor del numerador: 1477\n",
            "Ingresa el valor del denominador: 15\n",
            "El resultado es: 7\n"
          ]
        }
      ]
    },
    {
      "cell_type": "code",
      "source": [
        "#Ejercicio 12\n",
        "nota1 = int(input(\"Ingresa la primera nota: \"))\n",
        "nota2 = int(input(\"Ingresa la segunda nota: \"))\n",
        "nota3 = int(input(\"Ingresa la tercera nota: \"))\n",
        "print(f\"El promedio de notas es: {(nota1 + nota2 + nota3) / 3}\")"
      ],
      "metadata": {
        "colab": {
          "base_uri": "https://localhost:8080/"
        },
        "id": "0eWCfGWKo13E",
        "outputId": "617e1e03-79cf-4f71-f720-5cf20fd7d5a8"
      },
      "execution_count": 23,
      "outputs": [
        {
          "output_type": "stream",
          "name": "stdout",
          "text": [
            "Ingresa la primera nota: 5\n",
            "Ingresa la segunda nota: 6\n",
            "Ingresa la tercera nota: 7\n",
            "El promedio de notas es: 6.0\n"
          ]
        }
      ]
    },
    {
      "cell_type": "code",
      "source": [
        "#Ejercicio 13\n",
        "media_ponderada = (5*1 + 12*2 + 20*3 + 15*4) / (1+2+3+4)\n",
        "print(f\"El promedio ponderado es: {media_ponderada}\")"
      ],
      "metadata": {
        "colab": {
          "base_uri": "https://localhost:8080/"
        },
        "id": "HbDHx995pN0h",
        "outputId": "5c145bd2-082f-425e-b0a5-f84e99c56026"
      },
      "execution_count": 24,
      "outputs": [
        {
          "output_type": "stream",
          "name": "stdout",
          "text": [
            "El promedio ponderado es: 14.9\n"
          ]
        }
      ]
    },
    {
      "cell_type": "code",
      "source": [
        "#Ejercicio 14\n",
        "frase = \"¡Sigamos escribiendo código en Python!,pero no te confundas con las reglas de JavaScript\"\n",
        "print(frase)"
      ],
      "metadata": {
        "colab": {
          "base_uri": "https://localhost:8080/"
        },
        "id": "qBCk2zrnpqtx",
        "outputId": "4dc82a78-76d5-46c4-daa8-534f82036309"
      },
      "execution_count": 25,
      "outputs": [
        {
          "output_type": "stream",
          "name": "stdout",
          "text": [
            "¡Sigamos escribiendo código en Python!,pero no te confundas con las reglas de JavaScript\n"
          ]
        }
      ]
    },
    {
      "cell_type": "code",
      "source": [
        "#Ejercicio 15\n",
        "Frase_escogida = input(\"Escribe la frase que quieras: \")\n",
        "print(Frase_escogida)"
      ],
      "metadata": {
        "colab": {
          "base_uri": "https://localhost:8080/"
        },
        "id": "BDMlPKcgqEhR",
        "outputId": "a25dcce0-f0d7-4057-a3f0-68cf387abebb"
      },
      "execution_count": 26,
      "outputs": [
        {
          "output_type": "stream",
          "name": "stdout",
          "text": [
            "Escribe la frase que quieras: Me pica\n",
            "Me pica\n"
          ]
        }
      ]
    },
    {
      "cell_type": "code",
      "source": [
        "#Ejercicio 16\n",
        "Frase_escogida = input(\"Escribe la frase que quieras: \")\n",
        "print(Frase_escogida.upper())"
      ],
      "metadata": {
        "colab": {
          "base_uri": "https://localhost:8080/"
        },
        "id": "8-jzsugdqYfQ",
        "outputId": "32f3281e-7ddf-4892-a485-385e253f9384"
      },
      "execution_count": 27,
      "outputs": [
        {
          "output_type": "stream",
          "name": "stdout",
          "text": [
            "Escribe la frase que quieras: en descanso\n",
            "EN DESCANSO\n"
          ]
        }
      ]
    },
    {
      "cell_type": "code",
      "source": [
        "#Ejercicio 17\n",
        "Frase_escogida = input(\"Escribe una frase en mayúsculas: \")\n",
        "print(Frase_escogida.lower())"
      ],
      "metadata": {
        "colab": {
          "base_uri": "https://localhost:8080/"
        },
        "id": "UnaYHgLvqt8b",
        "outputId": "3762aa51-e20c-4c3d-ada4-b2f98c253ae3"
      },
      "execution_count": 29,
      "outputs": [
        {
          "output_type": "stream",
          "name": "stdout",
          "text": [
            "Escribe una frase en mayúsculas: HOLA MUNDO\n",
            "hola mundo\n"
          ]
        }
      ]
    },
    {
      "cell_type": "code",
      "source": [
        "#Ejercicio 19\n",
        "Frase_escogida = input(\"Escribe la frase que quieras, con espacios al principio y al final: \")\n",
        "print(Frase_escogida.strip())"
      ],
      "metadata": {
        "colab": {
          "base_uri": "https://localhost:8080/"
        },
        "id": "8_H6g6t9rG_a",
        "outputId": "2076a81e-f5d2-474e-e51a-b92b8d0794c6"
      },
      "execution_count": 30,
      "outputs": [
        {
          "output_type": "stream",
          "name": "stdout",
          "text": [
            "Escribe la frase que quieras, con espacios al principio y al final:  Hola a todos  \n",
            "Hola a todos\n"
          ]
        }
      ]
    },
    {
      "cell_type": "code",
      "source": [
        "#Ejercicio 20\n",
        "Frase_escogida = input(\"Escribe la frase que quieras en mayúscula y con espacios al principio y al final: \")\n",
        "print(Frase_escogida.strip().lower())"
      ],
      "metadata": {
        "colab": {
          "base_uri": "https://localhost:8080/"
        },
        "id": "13q7DBwGrZYs",
        "outputId": "efa8b2c7-bc23-42be-de3f-f42f024cc91e"
      },
      "execution_count": 31,
      "outputs": [
        {
          "output_type": "stream",
          "name": "stdout",
          "text": [
            "Escribe la frase que quieras en mayúscula y con espacios al principio y al final:  ESTOY USANDO EL METODO POMODORO  \n",
            "estoy usando el metodo pomodoro\n"
          ]
        }
      ]
    },
    {
      "cell_type": "code",
      "source": [
        "#Ejercicio 21\n",
        "Frase_escogida = input(\"Escribe la frase que quieras en mayúscula: \")\n",
        "print(Frase_escogida.lower().replace(\"e\", \"f\"))"
      ],
      "metadata": {
        "colab": {
          "base_uri": "https://localhost:8080/"
        },
        "id": "pk_aoZE7ryF4",
        "outputId": "93908f42-7134-4cc0-dba5-6e2c03de3a34"
      },
      "execution_count": 32,
      "outputs": [
        {
          "output_type": "stream",
          "name": "stdout",
          "text": [
            "Escribe la frase que quieras en mayúscula: Estoy cansada de tanto trabajar\n",
            "fstoy cansada df tanto trabajar\n"
          ]
        }
      ]
    },
    {
      "cell_type": "code",
      "source": [
        "#Ejercicio 22\n",
        "Frase_escogida = input(\"Escribe la frase que quieras en mayúscula: \")\n",
        "print(Frase_escogida.lower().replace(\"a\", chr (64)))"
      ],
      "metadata": {
        "colab": {
          "base_uri": "https://localhost:8080/"
        },
        "id": "1wrDa9iXsdsU",
        "outputId": "0b0af530-46ee-451e-ac5d-05beb5c82597"
      },
      "execution_count": 34,
      "outputs": [
        {
          "output_type": "stream",
          "name": "stdout",
          "text": [
            "Escribe la frase que quieras en mayúscula: LA MAÑANA ESTA TEMPLADA\n",
            "l@ m@ñ@n@ est@ templ@d@\n"
          ]
        }
      ]
    },
    {
      "cell_type": "code",
      "source": [
        "#Ejercicio 23\n",
        "Frase_escogida = input(\"Escribe la frase que quieras en mayúscula: \")\n",
        "print(Frase_escogida.lower().replace(\"s\", chr(36)))"
      ],
      "metadata": {
        "colab": {
          "base_uri": "https://localhost:8080/"
        },
        "id": "36-ZS1KIszFG",
        "outputId": "defea147-a15a-4f88-d91d-ef8eb51744d0"
      },
      "execution_count": 35,
      "outputs": [
        {
          "output_type": "stream",
          "name": "stdout",
          "text": [
            "Escribe la frase que quieras en mayúscula: EL SALERO SALA LA SALA\n",
            "el $alero $ala la $ala\n"
          ]
        }
      ]
    }
  ]
}