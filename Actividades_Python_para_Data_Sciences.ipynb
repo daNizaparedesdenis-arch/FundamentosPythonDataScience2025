{
  "nbformat": 4,
  "nbformat_minor": 0,
  "metadata": {
    "colab": {
      "provenance": [],
      "authorship_tag": "ABX9TyPrjlGDZ+7O8kiGBvTZe5id",
      "include_colab_link": true
    },
    "kernelspec": {
      "name": "python3",
      "display_name": "Python 3"
    },
    "language_info": {
      "name": "python"
    }
  },
  "cells": [
    {
      "cell_type": "markdown",
      "metadata": {
        "id": "view-in-github",
        "colab_type": "text"
      },
      "source": [
        "<a href=\"https://colab.research.google.com/github/daNizaparedesdenis-arch/FundamentosPythonDataScience2025/blob/main/Actividades_Python_para_Data_Sciences.ipynb\" target=\"_parent\"><img src=\"https://colab.research.google.com/assets/colab-badge.svg\" alt=\"Open In Colab\"/></a>"
      ]
    },
    {
      "cell_type": "markdown",
      "source": [
        "# Mis primeros pasos con Python: Hora de Practicar\n",
        "1. Imprime la frase \"Escuela de Datos de Alura\".\n",
        "2. Imprime tu nombre y tu apellido\n",
        "3. Imprime tu primer nombre letra por letra\n",
        "4. Imprime tu fecha de nacimiento en formato día mes año\n",
        "5. Imprime, en una sola instrucción print, el año actual en el que estás realizando este curso\n"
      ],
      "metadata": {
        "id": "EBO1G1WXDxIF"
      }
    },
    {
      "cell_type": "code",
      "source": [
        "print(\"Escuela de Datos Alura\")"
      ],
      "metadata": {
        "colab": {
          "base_uri": "https://localhost:8080/"
        },
        "id": "BYv0JmNUEc8Q",
        "outputId": "6d749784-1f77-4dda-84a5-c3413f409ad8"
      },
      "execution_count": 1,
      "outputs": [
        {
          "output_type": "stream",
          "name": "stdout",
          "text": [
            "Escuela de Datos Alura\n"
          ]
        }
      ]
    },
    {
      "cell_type": "code",
      "source": [
        "print(\"Tu Nombre: Danisa\")\n",
        "print(\"Tu Apellido: Paredes\")"
      ],
      "metadata": {
        "colab": {
          "base_uri": "https://localhost:8080/"
        },
        "id": "WQLBxuZ-FDvy",
        "outputId": "40de95b7-a618-4652-822a-96818e9211b7"
      },
      "execution_count": 2,
      "outputs": [
        {
          "output_type": "stream",
          "name": "stdout",
          "text": [
            "Tu Nombre: Danisa\n",
            "Tu Apellido: Paredes\n"
          ]
        }
      ]
    },
    {
      "cell_type": "code",
      "source": [
        "print(\"D\")\n",
        "print(\"A\")\n",
        "print(\"N\")\n",
        "print(\"I\")\n",
        "print(\"S\")\n",
        "print(\"A\")"
      ],
      "metadata": {
        "colab": {
          "base_uri": "https://localhost:8080/"
        },
        "id": "D9l5SX6JFWKs",
        "outputId": "01799483-e7bd-4f3e-99f6-7edae9838acb"
      },
      "execution_count": 3,
      "outputs": [
        {
          "output_type": "stream",
          "name": "stdout",
          "text": [
            "D\n",
            "A\n",
            "N\n",
            "I\n",
            "S\n",
            "A\n"
          ]
        }
      ]
    },
    {
      "cell_type": "code",
      "source": [
        "print(4, \"junio\", 1984)"
      ],
      "metadata": {
        "colab": {
          "base_uri": "https://localhost:8080/"
        },
        "id": "Qv6oTFLmFmC5",
        "outputId": "923100e7-8259-4e1d-ef36-7d27363c613f"
      },
      "execution_count": 6,
      "outputs": [
        {
          "output_type": "stream",
          "name": "stdout",
          "text": [
            "4 junio 1984\n"
          ]
        }
      ]
    },
    {
      "cell_type": "code",
      "source": [
        "print(\"Año Actual\", 2025)"
      ],
      "metadata": {
        "colab": {
          "base_uri": "https://localhost:8080/"
        },
        "id": "gSs6p0T3F501",
        "outputId": "58d2a145-6151-4bf5-8d2a-7853d6fa658c"
      },
      "execution_count": 8,
      "outputs": [
        {
          "output_type": "stream",
          "name": "stdout",
          "text": [
            "Año Actual 2025\n"
          ]
        }
      ]
    },
    {
      "cell_type": "markdown",
      "source": [],
      "metadata": {
        "id": "KYD8LofgEcTS"
      }
    }
  ]
}